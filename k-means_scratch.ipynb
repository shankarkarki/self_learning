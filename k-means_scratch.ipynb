{
 "cells": [
  {
   "cell_type": "code",
   "execution_count": 3,
   "metadata": {},
   "outputs": [],
   "source": [
    "import random \n",
    "import numpy as np\n",
    "import matplotlib.pyplot as plt"
   ]
  },
  {
   "cell_type": "code",
   "execution_count": 4,
   "metadata": {},
   "outputs": [
    {
     "name": "stderr",
     "output_type": "stream",
     "text": [
      "'which' is not recognized as an internal or external command,\n",
      "operable program or batch file.\n"
     ]
    }
   ],
   "source": [
    "!which python"
   ]
  },
  {
   "cell_type": "code",
   "execution_count": 5,
   "metadata": {},
   "outputs": [
    {
     "data": {
      "text/plain": [
       "(100,)"
      ]
     },
     "execution_count": 5,
     "metadata": {},
     "output_type": "execute_result"
    }
   ],
   "source": [
    "np.random.seed(2)\n",
    "x=np.random.normal(6,1,100)\n",
    "#x\n",
    "x.shape\n"
   ]
  },
  {
   "cell_type": "code",
   "execution_count": 6,
   "metadata": {},
   "outputs": [
    {
     "data": {
      "text/plain": [
       "1.0754432724043381"
      ]
     },
     "execution_count": 6,
     "metadata": {},
     "output_type": "execute_result"
    }
   ],
   "source": [
    "x1=np.var(x)\n",
    "x1"
   ]
  },
  {
   "cell_type": "code",
   "execution_count": 7,
   "metadata": {},
   "outputs": [
    {
     "data": {
      "text/plain": [
       "(100,)"
      ]
     },
     "execution_count": 7,
     "metadata": {},
     "output_type": "execute_result"
    }
   ],
   "source": [
    "\n",
    "y=np.random.normal(6,1,100)\n",
    "#y\n",
    "y.shape"
   ]
  },
  {
   "cell_type": "code",
   "execution_count": 8,
   "metadata": {},
   "outputs": [
    {
     "data": {
      "text/plain": [
       "1.230630713905805"
      ]
     },
     "execution_count": 8,
     "metadata": {},
     "output_type": "execute_result"
    }
   ],
   "source": [
    "x2=np.var(y)\n",
    "x2"
   ]
  },
  {
   "cell_type": "code",
   "execution_count": 9,
   "metadata": {},
   "outputs": [
    {
     "data": {
      "text/plain": [
       "<matplotlib.collections.PathCollection at 0x1cb1a581470>"
      ]
     },
     "execution_count": 9,
     "metadata": {},
     "output_type": "execute_result"
    },
    {
     "data": {
      "image/png": "[encoded data removed]",
      "text/plain": [
       "<Figure size 432x288 with 1 Axes>"
      ]
     },
     "metadata": {
      "needs_background": "light"
     },
     "output_type": "display_data"
    }
   ],
   "source": [
    "plt.scatter(x, y)"
   ]
  },
  {
   "cell_type": "code",
   "execution_count": 10,
   "metadata": {},
   "outputs": [
    {
     "data": {
      "text/plain": [
       "(100,)"
      ]
     },
     "execution_count": 10,
     "metadata": {},
     "output_type": "execute_result"
    }
   ],
   "source": [
    "s=np.random.uniform(4,6,100)\n",
    "s.shape\n"
   ]
  },
  {
   "cell_type": "code",
   "execution_count": 11,
   "metadata": {},
   "outputs": [
    {
     "data": {
      "text/plain": [
       "0.35643111518841636"
      ]
     },
     "execution_count": 11,
     "metadata": {},
     "output_type": "execute_result"
    }
   ],
   "source": [
    "s1=np.var(s)\n",
    "s1"
   ]
  },
  {
   "cell_type": "code",
   "execution_count": 12,
   "metadata": {},
   "outputs": [],
   "source": [
    "k=np.random.uniform(4,6,100)\n"
   ]
  },
  {
   "cell_type": "code",
   "execution_count": 13,
   "metadata": {},
   "outputs": [
    {
     "data": {
      "text/plain": [
       "0.32646663438734796"
      ]
     },
     "execution_count": 13,
     "metadata": {},
     "output_type": "execute_result"
    }
   ],
   "source": [
    "k1=np.var(k)\n",
    "k1"
   ]
  },
  {
   "cell_type": "code",
   "execution_count": 14,
   "metadata": {},
   "outputs": [
    {
     "data": {
      "text/plain": [
       "<matplotlib.collections.PathCollection at 0x1cb1a5ca9e8>"
      ]
     },
     "execution_count": 14,
     "metadata": {},
     "output_type": "execute_result"
    },
    {
     "data": {
      "image/png": "[encoded data removed]",
      "text/plain": [
       "<Figure size 432x288 with 1 Axes>"
      ]
     },
     "metadata": {
      "needs_background": "light"
     },
     "output_type": "display_data"
    }
   ],
   "source": [
    "plt.scatter(s, k,color=\"g\")"
   ]
  },
  {
   "cell_type": "code",
   "execution_count": 15,
   "metadata": {},
   "outputs": [
    {
     "data": {
      "text/plain": [
       "<matplotlib.collections.PathCollection at 0x1cb1a69fb70>"
      ]
     },
     "execution_count": 15,
     "metadata": {},
     "output_type": "execute_result"
    },
    {
     "data": {
      "image/png": "[encoded data removed]",
      "text/plain": [
       "<Figure size 432x288 with 1 Axes>"
      ]
     },
     "metadata": {
      "needs_background": "light"
     },
     "output_type": "display_data"
    }
   ],
   "source": [
    "\n",
    "plt.scatter(s,k,color=\"g\")\n",
    "plt.scatter(x,y,color=\"b\")"
   ]
  },
  {
   "cell_type": "markdown",
   "metadata": {},
   "source": [
    "mean_x1=np.mean(x)\n",
    "mean_x2=np.mean(y)\n",
    "first_cluster_means=mean_x1,mean_x2"
   ]
  },
  {
   "cell_type": "code",
   "execution_count": 16,
   "metadata": {},
   "outputs": [
    {
     "data": {
      "text/plain": [
       "4.959417950394332"
      ]
     },
     "execution_count": 16,
     "metadata": {},
     "output_type": "execute_result"
    }
   ],
   "source": [
    "mean_x2=np.mean(s)\n",
    "mean_x2\n"
   ]
  },
  {
   "cell_type": "code",
   "execution_count": 17,
   "metadata": {},
   "outputs": [
    {
     "data": {
      "text/plain": [
       "5.000455690446866"
      ]
     },
     "execution_count": 17,
     "metadata": {},
     "output_type": "execute_result"
    }
   ],
   "source": [
    "mean_y2=np.mean(k)\n",
    "mean_y2"
   ]
  },
  {
   "cell_type": "code",
   "execution_count": 18,
   "metadata": {},
   "outputs": [
    {
     "name": "stdout",
     "output_type": "stream",
     "text": [
      "[[1.08630634 0.03669469]\n",
      " [0.03669469 1.24306133]]\n"
     ]
    }
   ],
   "source": [
    "cov_mat_normal=np.stack((x,y),axis= 0)\n",
    "print(np.cov(cov_mat_normal)) "
   ]
  },
  {
   "cell_type": "code",
   "execution_count": 19,
   "metadata": {},
   "outputs": [
    {
     "name": "stdout",
     "output_type": "stream",
     "text": [
      "[[ 0.36003143 -0.01833688]\n",
      " [-0.01833688  0.32976428]]\n"
     ]
    }
   ],
   "source": [
    "cov_mat_uni = np.stack((s, k), axis = 0)\n",
    "print(np.cov(cov_mat_uni)) "
   ]
  },
  {
   "cell_type": "code",
   "execution_count": null,
   "metadata": {},
   "outputs": [],
   "source": []
  },
  {
   "cell_type": "code",
   "execution_count": null,
   "metadata": {},
   "outputs": [],
   "source": []
  },
  {
   "cell_type": "code",
   "execution_count": null,
   "metadata": {},
   "outputs": [],
   "source": []
  },
  {
   "cell_type": "code",
   "execution_count": null,
   "metadata": {},
   "outputs": [],
   "source": []
  },
  {
   "cell_type": "code",
   "execution_count": null,
   "metadata": {},
   "outputs": [],
   "source": []
  },
  {
   "cell_type": "code",
   "execution_count": 20,
   "metadata": {},
   "outputs": [
    {
     "data": {
      "text/plain": [
       "(200,)"
      ]
     },
     "execution_count": 20,
     "metadata": {},
     "output_type": "execute_result"
    }
   ],
   "source": [
    "load_x = np.append(x,s)\n",
    "load_x.shape\n",
    " "
   ]
  },
  {
   "cell_type": "code",
   "execution_count": 21,
   "metadata": {},
   "outputs": [
    {
     "data": {
      "text/plain": [
       "(200,)"
      ]
     },
     "execution_count": 21,
     "metadata": {},
     "output_type": "execute_result"
    }
   ],
   "source": [
    "load_y=np.append(y,k)\n",
    "load_y.shape"
   ]
  },
  {
   "cell_type": "code",
   "execution_count": 22,
   "metadata": {},
   "outputs": [
    {
     "data": {
      "text/plain": [
       "(200, 2)"
      ]
     },
     "execution_count": 22,
     "metadata": {},
     "output_type": "execute_result"
    }
   ],
   "source": [
    "load= np.stack((load_x, load_y), axis = 1)\n",
    "load.shape\n"
   ]
  },
  {
   "cell_type": "code",
   "execution_count": 23,
   "metadata": {},
   "outputs": [
    {
     "data": {
      "text/plain": [
       "array([[ 5.58324215,  7.16152149],\n",
       "       [ 5.94373317,  6.38607805],\n",
       "       [ 3.8638039 ,  4.86686673],\n",
       "       [ 7.64027081,  6.43309255],\n",
       "       [ 4.20656441,  5.69591356],\n",
       "       [ 5.15825263,  8.58529487],\n",
       "       [ 6.50288142,  7.83533272],\n",
       "       [ 4.75471191,  6.44068987],\n",
       "       [ 4.94204778,  5.28074616],\n",
       "       [ 5.09099239,  5.41658541],\n",
       "       [ 6.55145404,  5.67495037],\n",
       "       [ 8.29220801,  5.43976549],\n",
       "       [ 6.04153939,  5.09775393],\n",
       "       [ 4.88207455,  5.40902772],\n",
       "       [ 6.53905832,  5.72382051],\n",
       "       [ 5.4038403 ,  5.48311611],\n",
       "       [ 5.9808695 ,  5.30141005],\n",
       "       [ 7.17500122,  5.07110808],\n",
       "       [ 5.25212905,  8.55043824],\n",
       "       [ 6.00902525,  4.52682675],\n",
       "       [ 5.12189211,  4.97858527],\n",
       "       [ 5.84356583,  6.4323957 ],\n",
       "       [ 6.25657045,  5.67641993],\n",
       "       [ 5.01122095,  6.42382471],\n",
       "       [ 5.66117803,  6.79918   ],\n",
       "       [ 5.76381597,  7.26261366],\n",
       "       [ 5.36234499,  6.75196485],\n",
       "       [ 4.81238771,  5.00623902],\n",
       "       [ 4.57878277,  7.10914328],\n",
       "       [ 5.8465048 ,  4.23508227],\n",
       "       [ 5.73094304,  5.8855787 ],\n",
       "       [ 8.23136679,  5.50182581],\n",
       "       [ 3.56523242,  4.93920096],\n",
       "       [ 6.1127265 ,  6.59166652],\n",
       "       [ 6.37044454,  5.81674343],\n",
       "       [ 7.35963386,  7.01985473],\n",
       "       [ 6.50185721,  4.51753452],\n",
       "       [ 5.1557863 ,  6.84631189],\n",
       "       [ 6.00000976,  6.49794015],\n",
       "       [ 6.54235257,  6.12650418],\n",
       "       [ 5.6864918 ,  4.58118945],\n",
       "       [ 6.77101174,  5.74822588],\n",
       "       [ 4.13190935,  4.45332539],\n",
       "       [ 7.73118467,  3.91734806],\n",
       "       [ 7.46767801,  9.2797454 ],\n",
       "       [ 5.66432266,  6.97086132],\n",
       "       [ 6.61134078,  7.79259285],\n",
       "       [ 6.04797059,  5.57098668],\n",
       "       [ 5.17086471,  6.69619798],\n",
       "       [ 6.08771022,  6.69741627],\n",
       "       [ 7.00036589,  6.60151581],\n",
       "       [ 5.61890748,  6.00365949],\n",
       "       [ 5.62433058,  5.77175244],\n",
       "       [ 5.92552924,  3.93038774],\n",
       "       [ 6.43349633,  6.61014409],\n",
       "       [ 7.27837923,  6.4234969 ],\n",
       "       [ 5.36532069,  7.11788673],\n",
       "       [ 6.50839624,  5.72575791],\n",
       "       [ 6.21611601,  7.74181219],\n",
       "       [ 4.14138761,  5.55249912],\n",
       "       [ 5.58068352,  4.74457278],\n",
       "       [ 5.8676711 ,  6.93816367],\n",
       "       [ 5.96042976,  5.53165374],\n",
       "       [ 6.32600343,  4.74527969],\n",
       "       [ 3.95967695,  6.12482365],\n",
       "       [ 6.04625552,  6.75650214],\n",
       "       [ 5.32232442,  6.24143963],\n",
       "       [ 4.56056097,  6.49742565],\n",
       "       [ 6.52429643, 10.10869262],\n",
       "       [ 6.73527958,  6.82112088],\n",
       "       [ 5.34674973,  7.53176032],\n",
       "       [ 6.84245628,  4.01415423],\n",
       "       [ 5.61848352,  6.36505352],\n",
       "       [ 6.06648901,  6.77408203],\n",
       "       [ 4.90126105,  5.63552091],\n",
       "       [ 7.58448706,  5.12402052],\n",
       "       [ 3.34055054,  6.39652016],\n",
       "       [ 5.90854738,  5.68538256],\n",
       "       [ 6.69511961,  5.40624442],\n",
       "       [ 3.96653345,  7.14950057],\n",
       "       [ 5.81053074,  7.33556617],\n",
       "       [ 5.92278133,  6.30262934],\n",
       "       [ 6.82470301,  5.54577215],\n",
       "       [ 7.24821292,  6.51437072],\n",
       "       [ 5.59610773,  6.82945843],\n",
       "       [ 4.61548133,  6.63062197],\n",
       "       [ 7.36723542,  4.54663565],\n",
       "       [ 7.21788563,  5.66198222],\n",
       "       [ 5.53799465,  6.35913333],\n",
       "       [ 6.35088849,  6.62222041],\n",
       "       [ 6.38186623,  6.96078194],\n",
       "       [ 6.56627544,  6.75837035],\n",
       "       [ 6.20420798,  4.86568152],\n",
       "       [ 7.40669624,  5.29257911],\n",
       "       [ 4.2620405 ,  4.77857083],\n",
       "       [ 7.04082395,  7.80447664],\n",
       "       [ 6.38047197,  6.18040981],\n",
       "       [ 5.78286473,  6.55316427],\n",
       "       [ 7.1735315 ,  7.03302907],\n",
       "       [ 3.65639681,  5.67099757],\n",
       "       [ 4.76158517,  4.64705703],\n",
       "       [ 4.35661966,  4.42319517],\n",
       "       [ 5.56331885,  4.56053658],\n",
       "       [ 4.94441717,  4.23421007],\n",
       "       [ 4.51896081,  5.37850375],\n",
       "       [ 5.38479849,  5.28905238],\n",
       "       [ 5.96097016,  4.62305881],\n",
       "       [ 4.49250718,  5.76059791],\n",
       "       [ 5.58048761,  4.77275145],\n",
       "       [ 5.52467049,  5.2221786 ],\n",
       "       [ 4.24007958,  5.04633865],\n",
       "       [ 5.67780519,  4.65011361],\n",
       "       [ 4.92347781,  5.85958085],\n",
       "       [ 4.25156277,  5.69640282],\n",
       "       [ 5.07268695,  5.6822459 ],\n",
       "       [ 4.5930255 ,  5.90857727],\n",
       "       [ 4.35144839,  4.00496485],\n",
       "       [ 4.15847634,  4.9842382 ],\n",
       "       [ 4.39779818,  5.87582624],\n",
       "       [ 4.85917724,  4.26885352],\n",
       "       [ 5.28362353,  4.48998828],\n",
       "       [ 4.17475836,  5.01012384],\n",
       "       [ 5.43146118,  5.35684302],\n",
       "       [ 4.20348962,  4.66551992],\n",
       "       [ 4.35119814,  4.61272934],\n",
       "       [ 5.42664312,  5.55159582],\n",
       "       [ 5.77052735,  4.06570788],\n",
       "       [ 5.96627672,  5.57159573],\n",
       "       [ 5.3058139 ,  4.85708056],\n",
       "       [ 4.95547271,  5.25801891],\n",
       "       [ 4.17557511,  5.41100605],\n",
       "       [ 5.11790159,  4.19693726],\n",
       "       [ 4.36230046,  5.80769233],\n",
       "       [ 5.02880412,  5.64462494],\n",
       "       [ 5.2178603 ,  4.75076287],\n",
       "       [ 5.66642498,  4.38958866],\n",
       "       [ 4.64750116,  4.12561088],\n",
       "       [ 5.97772419,  4.61721785],\n",
       "       [ 5.98990052,  5.42638392],\n",
       "       [ 5.65230164,  5.62636343],\n",
       "       [ 5.38830509,  4.6531766 ],\n",
       "       [ 5.4673396 ,  4.44057977],\n",
       "       [ 5.75053762,  4.65478837],\n",
       "       [ 5.9030203 ,  5.92873367],\n",
       "       [ 5.70452585,  4.1921814 ],\n",
       "       [ 5.28187728,  4.3243669 ],\n",
       "       [ 4.14699677,  5.38847824],\n",
       "       [ 5.24676943,  4.279527  ],\n",
       "       [ 4.70642778,  4.53325179],\n",
       "       [ 4.32955725,  5.60635174],\n",
       "       [ 5.78633237,  4.60122357],\n",
       "       [ 5.64978096,  5.1940331 ],\n",
       "       [ 5.05327685,  5.14562458],\n",
       "       [ 4.92689851,  4.53088694],\n",
       "       [ 4.97860258,  4.49746858],\n",
       "       [ 4.52144004,  4.57935098],\n",
       "       [ 4.80527585,  5.75188014],\n",
       "       [ 4.87333976,  4.03751629],\n",
       "       [ 4.03011227,  4.18327282],\n",
       "       [ 5.78581177,  4.68241992],\n",
       "       [ 4.05829864,  4.44060331],\n",
       "       [ 4.74578577,  5.1257148 ],\n",
       "       [ 4.19174663,  5.07892219],\n",
       "       [ 4.39392864,  4.99072401],\n",
       "       [ 5.88484122,  4.60150614],\n",
       "       [ 4.74254234,  5.02289745],\n",
       "       [ 5.4580016 ,  5.57245703],\n",
       "       [ 4.25232022,  5.62501116],\n",
       "       [ 4.50256584,  5.06568177],\n",
       "       [ 5.76247059,  5.61267043],\n",
       "       [ 5.8065923 ,  4.06855096],\n",
       "       [ 4.57527052,  4.30813224],\n",
       "       [ 5.93422626,  5.49637006],\n",
       "       [ 5.33619867,  4.76973979],\n",
       "       [ 5.00601355,  4.63579698],\n",
       "       [ 4.75600482,  5.14401763],\n",
       "       [ 4.67473659,  4.74484103],\n",
       "       [ 5.90402141,  5.81905982],\n",
       "       [ 5.38666766,  4.77394245],\n",
       "       [ 5.0682034 ,  5.67249839],\n",
       "       [ 4.0869794 ,  5.20352744],\n",
       "       [ 4.49510175,  5.82403755],\n",
       "       [ 5.88634145,  4.96810715],\n",
       "       [ 5.11372033,  5.91702813],\n",
       "       [ 4.71503646,  5.15341932],\n",
       "       [ 4.01890075,  4.0554886 ],\n",
       "       [ 4.50709653,  5.4777417 ],\n",
       "       [ 4.50845338,  5.72280159],\n",
       "       [ 4.34137105,  4.19710002],\n",
       "       [ 4.68995992,  5.92688608],\n",
       "       [ 4.4052981 ,  5.12685207],\n",
       "       [ 4.12580308,  5.48140382],\n",
       "       [ 4.19592079,  4.44800264],\n",
       "       [ 4.993455  ,  5.88236499],\n",
       "       [ 4.13932118,  5.28665692],\n",
       "       [ 5.87030713,  5.08663728],\n",
       "       [ 4.41219527,  5.92278039],\n",
       "       [ 4.9284247 ,  5.11393747],\n",
       "       [ 4.82933651,  5.06333678],\n",
       "       [ 4.58267544,  4.08953392]])"
      ]
     },
     "execution_count": 23,
     "metadata": {},
     "output_type": "execute_result"
    }
   ],
   "source": [
    "X=load\n",
    "X"
   ]
  },
  {
   "cell_type": "code",
   "execution_count": 48,
   "metadata": {},
   "outputs": [
    {
     "data": {
      "text/plain": [
       "(200, 2)"
      ]
     },
     "execution_count": 48,
     "metadata": {},
     "output_type": "execute_result"
    }
   ],
   "source": [
    "X.shape"
   ]
  },
  {
   "cell_type": "code",
   "execution_count": 49,
   "metadata": {},
   "outputs": [
    {
     "data": {
      "image/png": "[encoded data removed]",
      "text/plain": [
       "<Figure size 864x576 with 1 Axes>"
      ]
     },
     "metadata": {
      "needs_background": "light"
     },
     "output_type": "display_data"
    },
    {
     "name": "stdout",
     "output_type": "stream",
     "text": [
      "([array([4.25232022, 5.62501116]), array([6.1127265 , 6.59166652])], [[2, 4, 7, 8, 9, 13, 15, 20, 23, 27, 28, 29, 32, 40, 42, 53, 59, 60, 64, 67, 74, 76, 79, 85, 94, 99, 100, 101, 102, 103, 104, 105, 107, 108, 109, 110, 111, 112, 113, 114, 115, 116, 117, 118, 119, 120, 121, 122, 123, 124, 125, 126, 128, 129, 130, 131, 132, 133, 134, 135, 136, 140, 141, 142, 144, 145, 146, 147, 148, 149, 150, 151, 152, 153, 154, 155, 156, 157, 158, 159, 160, 161, 162, 163, 164, 165, 166, 167, 168, 170, 171, 173, 174, 175, 176, 178, 179, 180, 181, 183, 184, 185, 186, 187, 188, 189, 190, 191, 192, 193, 194, 196, 197, 198, 199], [0, 1, 3, 5, 6, 10, 11, 12, 14, 16, 17, 18, 19, 21, 22, 24, 25, 26, 30, 31, 33, 34, 35, 36, 37, 38, 39, 41, 43, 44, 45, 46, 47, 48, 49, 50, 51, 52, 54, 55, 56, 57, 58, 61, 62, 63, 65, 66, 68, 69, 70, 71, 72, 73, 75, 77, 78, 80, 81, 82, 83, 84, 86, 87, 88, 89, 90, 91, 92, 93, 95, 96, 97, 98, 106, 127, 137, 138, 139, 143, 169, 172, 177, 182, 195]])\n"
     ]
    },
    {
     "data": {
      "image/png": "[encoded data removed]",
      "text/plain": [
       "<Figure size 864x576 with 1 Axes>"
      ]
     },
     "metadata": {
      "needs_background": "light"
     },
     "output_type": "display_data"
    }
   ],
   "source": [
    "import numpy as np\n",
    "import matplotlib.pyplot as plt\n",
    "np.random.seed(42)\n",
    "\n",
    "x=np.random.normal(0,1,100)\n",
    "\n",
    "def euclidean_dis(x1,x2):\n",
    "\treturn np.sqrt(np.sum((x1-x2)**2))\n",
    "import numpy as np\n",
    "import matplotlib.pyplot as plt\n",
    "np.random.seed(42)\n",
    "\n",
    "x=np.random.normal(0,1,100)\n",
    "\n",
    "def euclidean_dis(x1,x2):\n",
    "\treturn np.sqrt(np.sum((x1-x2)**2))\n",
    "\n",
    "\n",
    "class Kmeans:\n",
    "\n",
    "\tdef __init__(self,k=2,max_iter=50,plot_steps=False):\n",
    "\n",
    "\t\tself.k=k\n",
    "\t\tself.max_iter=max_iter\n",
    "\t\tself.plot_steps=plot_steps\n",
    "\n",
    "\t\t#list of input dataframe indices for each cluster\n",
    "\t\tself.clusters=[[] for _ in range(self.k)]\n",
    "\t\t#mean vector /cluster for each cluster\n",
    "\t\tself.centriods=[]\n",
    "\n",
    "\tdef predict(self,X):\n",
    "\t\tself.x=X\n",
    "\t\tself.n_samples,self.n_features=X.shape\n",
    "\n",
    "\n",
    "\t\t#initialize centriods\n",
    "\t\trandom_sample_idx=np.random.choice(self.n_samples,self.k,replace=False)\n",
    "\t\tself.centriods=[self.x[idx] for idx in random_sample_idx]\n",
    "\n",
    "\n",
    "\t\t#optimization\n",
    "\t\tfor _ in range(self.max_iter):\n",
    "\n",
    "\t\t\t#update cluster\n",
    "\t\t\tself.clusters=self._create_clusters(self.centriods)\n",
    "\t\t\t#if self.plot_steps:\n",
    "\t\t\t\t#self.plot()\n",
    "\n",
    "\n",
    "\t\t\t#update centriods\n",
    "\t\t\tcentriods_old =self.centriods\n",
    "\t\t\tself.centroids=self._get_centriods(self.clusters)\n",
    "\t\t\tif self.plot_steps:\n",
    "\t\t\t\tself.plot()\n",
    "\n",
    "\n",
    "\n",
    "\t\t\t#check if converged\n",
    "\t\t\tif self._is_converged(centriods_old,self.centriods):\n",
    "\t\t\t\tbreak\n",
    "\n",
    "\n",
    "\n",
    "\t\t\t#return cluster labels\n",
    "\t\tself._get_cluster_label(self.clusters)\n",
    "\t\treturn self.centriods,self.clusters\n",
    "\t\t#eturn clusters\n",
    "\n",
    "\n",
    "\n",
    "\n",
    "\tdef _get_cluster_label(self,clusters):\n",
    "\t\tlabels=np.empty(self.n_samples)\n",
    "\t\tfor cluster_idx,cluster in enumerate(clusters):\n",
    "\t\t\tfor sample_idx in cluster:\n",
    "\t\t\t\tlabels[sample_idx]=cluster_idx\n",
    "\n",
    "\n",
    "\n",
    "\n",
    "\tdef _create_clusters(self,centriods):\n",
    "\t\tclusters=[[] for _ in range(self.k)]\n",
    "\t\tfor idx,sample in enumerate(self.x):\n",
    "\t\t\tcentriod_idx=self._closest_centriod(sample,centriods)\n",
    "\t\t\tclusters[centriod_idx].append(idx)\n",
    "\t\treturn clusters\n",
    "\n",
    "\n",
    "\tdef _closest_centriod(self,sample,centriods):\n",
    "\t    distances=[euclidean_dis(sample,point) for point in centriods]\n",
    "\t    closest_idx=np.argmin(distances)\n",
    "\t    return closest_idx\n",
    "\n",
    "\tdef _get_centriods(self,clusters):\n",
    "\t\tcentriods=np.zeros((self.k,self.n_features))\n",
    "\t\tfor cluster_idx,cluster in enumerate(clusters):\n",
    "\t\t\tcluster_mean=np.mean(self.x[cluster],axis=0)\n",
    "\t\t\tcentriods[cluster_idx]=cluster_mean\n",
    "\t\treturn centriods\n",
    "\n",
    "\n",
    "\tdef _is_converged(self,centriods_old,centriods):\n",
    "\t\tdistances=[euclidean_dis(centriods_old[i],centriods[i]) for i in range(self.k)]\n",
    "\t\treturn sum(distances) ==0\n",
    "\n",
    "\n",
    "\tdef plot(self):\n",
    "\t\tfig, ax =plt.subplots(figsize=(12,8))\n",
    "\n",
    "\t\tfor i,index in enumerate(self.clusters):\n",
    "\t\t\tpoint=self.x[index].T\n",
    "\t\t\tax.scatter(*point)\n",
    "\n",
    "\t\tfor point in self.centriods:\n",
    "\t\t\tax.scatter(*point,marker=\"x\",color=\"black\",linewidth=2)\n",
    "\t\tplt.show()\n",
    "\n",
    "\n",
    "\n",
    "\n",
    "\n",
    "\n",
    "      \n",
    "\n",
    "kmeans = Kmeans(k=2,max_iter=10,plot_steps=True)\n",
    "print(kmeans.predict(X))\n",
    "centriod, cluters = kmeans.predict(X)"
   ]
  },
  {
   "cell_type": "code",
   "execution_count": 65,
   "metadata": {},
   "outputs": [],
   "source": [
    "len(cluters[1])\n",
    "first_cluster = cluters[0]\n",
    "second_cluster = cluters[1]\n"
   ]
  },
  {
   "cell_type": "code",
   "execution_count": 67,
   "metadata": {},
   "outputs": [
    {
     "data": {
      "text/plain": [
       "array([5.88484122, 4.60150614])"
      ]
     },
     "execution_count": 67,
     "metadata": {},
     "output_type": "execute_result"
    }
   ],
   "source": [
    "centriod[1]"
   ]
  },
  {
   "cell_type": "code",
   "execution_count": 69,
   "metadata": {},
   "outputs": [
    {
     "data": {
      "text/plain": [
       "1"
      ]
     },
     "execution_count": 69,
     "metadata": {},
     "output_type": "execute_result"
    }
   ],
   "source": [
    "first_cluster[1]"
   ]
  },
  {
   "cell_type": "code",
   "execution_count": 36,
   "metadata": {},
   "outputs": [],
   "source": [
    "#kmeans = Kmeans(k=2,max_iter=10,plot_steps=False)"
   ]
  },
  {
   "cell_type": "code",
   "execution_count": null,
   "metadata": {},
   "outputs": [],
   "source": [
    "X[2]"
   ]
  },
  {
   "cell_type": "code",
   "execution_count": 28,
   "metadata": {},
   "outputs": [],
   "source": [
    "#kmeans.predict(X)"
   ]
  },
  {
   "cell_type": "code",
   "execution_count": null,
   "metadata": {},
   "outputs": [],
   "source": []
  }
 ],
 "metadata": {
  "kernelspec": {
   "display_name": "Python 3",
   "language": "python",
   "name": "python3"
  },
  "language_info": {
   "codemirror_mode": {
    "name": "ipython",
    "version": 3
   },
   "file_extension": ".py",
   "mimetype": "text/x-python",
   "name": "python",
   "nbconvert_exporter": "python",
   "pygments_lexer": "ipython3",
   "version": "3.7.3"
  }
 },
 "nbformat": 4,
 "nbformat_minor": 2
}
